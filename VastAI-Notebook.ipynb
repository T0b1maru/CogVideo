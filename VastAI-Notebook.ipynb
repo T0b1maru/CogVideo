{
 "cells": [
  {
   "cell_type": "code",
   "execution_count": null,
   "id": "c9d4f2a2-ec9d-42f2-b8e5-4cc52a2c6e32",
   "metadata": {},
   "outputs": [],
   "source": [
    "!git clone https://github.com/T0b1maru/CogVideo /workspace/CogVideo\n",
    "\n",
    "!apt-get install ffmpeg libsm6 libxext6  -y\n",
    "!pip install -r /workspace/CogVideo/inference/gradio_composite_demo/requirements.txt\n",
    "!pip install torch==2.3.1 torchvision==0.18.1 torchaudio==2.3.1 --index-url https://download.pytorch.org/whl/cu121\n",
    "!pip install moviepy==2.0.0.dev2\n",
    "!pip install utils\n",
    "\n",
    "!echo\n",
    "!echo \" >>>>>>>>>>>>>>>>>>>  Done!! <<<<<<<<<<<<<<<<<<<<<\""
   ]
  },
  {
   "cell_type": "code",
   "execution_count": null,
   "id": "1bcdec0c-b921-4720-bc6e-96ba3d64eee5",
   "metadata": {},
   "outputs": [],
   "source": [
    "!cd /workspace/CogVideo/inference/gradio_composite_demo && python cogstudio.py"
   ]
  }
 ],
 "metadata": {
  "kernelspec": {
   "display_name": "Python 3 (ipykernel)",
   "language": "python",
   "name": "python3"
  },
  "language_info": {
   "codemirror_mode": {
    "name": "ipython",
    "version": 3
   },
   "file_extension": ".py",
   "mimetype": "text/x-python",
   "name": "python",
   "nbconvert_exporter": "python",
   "pygments_lexer": "ipython3",
   "version": "3.10.13"
  }
 },
 "nbformat": 4,
 "nbformat_minor": 5
}
